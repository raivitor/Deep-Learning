{
 "cells": [
  {
   "cell_type": "code",
   "execution_count": 2,
   "metadata": {},
   "outputs": [
    {
     "name": "stdout",
     "output_type": "stream",
     "text": [
      "Counter({'orci.': 1, 'Quisque': 1, 'consectetur': 1, 'dolor': 1, 'adipiscing': 1, 'amet,': 1, 'Lorem': 1, 'ipsum': 1, 'sit': 1, 'elit.': 1})\n"
     ]
    }
   ],
   "source": [
    "from collections import Counter\n",
    "\n",
    "def bag_of_words(text):\n",
    "    return Counter(text.split())\n",
    "\n",
    "test_text = 'Lorem ipsum dolor sit amet, consectetur adipiscing elit. Quisque orci.'\n",
    "\n",
    "print(bag_of_words(test_text))"
   ]
  }
 ],
 "metadata": {
  "kernelspec": {
   "display_name": "Python 3",
   "language": "python",
   "name": "python3"
  },
  "language_info": {
   "codemirror_mode": {
    "name": "ipython",
    "version": 3
   },
   "file_extension": ".py",
   "mimetype": "text/x-python",
   "name": "python",
   "nbconvert_exporter": "python",
   "pygments_lexer": "ipython3",
   "version": "3.5.3"
  }
 },
 "nbformat": 4,
 "nbformat_minor": 2
}
